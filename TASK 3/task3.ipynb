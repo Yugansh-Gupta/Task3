{
 "cells": [
  {
   "cell_type": "code",
   "execution_count": 1,
   "metadata": {},
   "outputs": [],
   "source": [
    "import numpy as np\n",
    "import tensorflow as tf\n",
    "from tensorflow.keras.preprocessing.text import Tokenizer\n",
    "from tensorflow.keras.preprocessing.sequence import pad_sequences\n",
    "from tensorflow.keras.models import Sequential\n",
    "from tensorflow.keras.layers import Embedding, LSTM, Dense\n",
    "\n",
    "# Read the text file\n",
    "with open('sherlock-holm.es_stories_plain-text_advs.txt', 'r', encoding='utf-8') as file:\n",
    "    text = file.read()"
   ]
  },
  {
   "cell_type": "code",
   "execution_count": 2,
   "metadata": {},
   "outputs": [],
   "source": [
    "tokenizer = Tokenizer()\n",
    "tokenizer.fit_on_texts([text])\n",
    "total_words = len(tokenizer.word_index) + 1"
   ]
  },
  {
   "cell_type": "code",
   "execution_count": 3,
   "metadata": {},
   "outputs": [],
   "source": [
    "input_sequences = []\n",
    "for line in text.split('\\n'):\n",
    "    token_list = tokenizer.texts_to_sequences([line])[0]\n",
    "    for i in range(1, len(token_list)):\n",
    "        n_gram_sequence = token_list[:i+1]\n",
    "        input_sequences.append(n_gram_sequence)"
   ]
  },
  {
   "cell_type": "code",
   "execution_count": 4,
   "metadata": {},
   "outputs": [],
   "source": [
    "max_sequence_len = max([len(seq) for seq in input_sequences])\n",
    "input_sequences = np.array(pad_sequences(input_sequences, maxlen=max_sequence_len, padding='pre'))"
   ]
  },
  {
   "cell_type": "code",
   "execution_count": 5,
   "metadata": {},
   "outputs": [],
   "source": [
    "X = input_sequences[:, :-1]\n",
    "y = input_sequences[:, -1]"
   ]
  },
  {
   "cell_type": "code",
   "execution_count": 6,
   "metadata": {},
   "outputs": [],
   "source": [
    "y = np.array(tf.keras.utils.to_categorical(y, num_classes=total_words))"
   ]
  },
  {
   "cell_type": "code",
   "execution_count": 7,
   "metadata": {},
   "outputs": [
    {
     "name": "stdout",
     "output_type": "stream",
     "text": [
      "Model: \"sequential\"\n",
      "_________________________________________________________________\n",
      " Layer (type)                Output Shape              Param #   \n",
      "=================================================================\n",
      " embedding (Embedding)       (None, 17, 100)           820000    \n",
      "                                                                 \n",
      " lstm (LSTM)                 (None, 150)               150600    \n",
      "                                                                 \n",
      " dense (Dense)               (None, 8200)              1238200   \n",
      "                                                                 \n",
      "=================================================================\n",
      "Total params: 2208800 (8.43 MB)\n",
      "Trainable params: 2208800 (8.43 MB)\n",
      "Non-trainable params: 0 (0.00 Byte)\n",
      "_________________________________________________________________\n",
      "None\n"
     ]
    }
   ],
   "source": [
    "model = Sequential()\n",
    "model.add(Embedding(total_words, 100, input_length=max_sequence_len-1))\n",
    "model.add(LSTM(150))\n",
    "model.add(Dense(total_words, activation='softmax'))\n",
    "print(model.summary())"
   ]
  },
  {
   "cell_type": "code",
   "execution_count": 8,
   "metadata": {},
   "outputs": [],
   "source": [
    "import keras\n",
    "model = keras.models.load_model('keras_model.keras')"
   ]
  },
  {
   "cell_type": "code",
   "execution_count": 9,
   "metadata": {},
   "outputs": [
    {
     "name": "stdout",
     "output_type": "stream",
     "text": [
      "1/1 [==============================] - 0s 447ms/step\n",
      "1/1 [==============================] - 0s 24ms/step\n",
      "I will do so\n"
     ]
    }
   ],
   "source": [
    "seed_text = \"I will\"\n",
    "next_words = 2\n",
    "\n",
    "for _ in range(next_words):\n",
    "    token_list = tokenizer.texts_to_sequences([seed_text])[0]\n",
    "    token_list = pad_sequences([token_list], maxlen=max_sequence_len-1, padding='pre')\n",
    "    predicted = np.argmax(model.predict(token_list), axis=-1)\n",
    "    output_word = \"\"\n",
    "    for word, index in tokenizer.word_index.items():\n",
    "        if index == predicted:\n",
    "            output_word = word\n",
    "            break\n",
    "    seed_text += \" \" + output_word\n",
    "\n",
    "print(seed_text)"
   ]
  },
  {
   "cell_type": "code",
   "execution_count": 10,
   "metadata": {},
   "outputs": [],
   "source": [
    "with open ('dummy.txt', 'w') as file:  \n",
    "    file.write(seed_text) "
   ]
  },
  {
   "cell_type": "code",
   "execution_count": 11,
   "metadata": {},
   "outputs": [
    {
     "name": "stdout",
     "output_type": "stream",
     "text": [
      "Could not find file. Using default file...\n",
      "Running...........\n",
      "Running...........\n",
      "Running...........\n",
      "Running...........\n",
      "Running...........\n",
      "Running...........\n",
      "Running...........\n",
      "Running...........\n",
      "Running...........\n",
      "Running...........\n",
      "Running...........\n",
      "Running...........\n",
      "653\n",
      "2632\n"
     ]
    }
   ],
   "source": [
    "from PIL import Image\n",
    "from sys import argv\n",
    "\n",
    "\n",
    "# if you'd rather not use the command line, put the path to your file here\n",
    "fileName = \"dummy.txt\" # path of your text file\n",
    "\n",
    "# read file that user wants converted from command line. If file can't be read, assign \n",
    "# the file to a file in the directory\n",
    "try:\n",
    "    txt=open(argv[1], \"r\")\n",
    "except IndexError:\n",
    "    print(\"No file entered. Using default file...\")\n",
    "    txt=open(fileName, \"r\")\n",
    "except FileNotFoundError:\n",
    "    print(\"Could not find file. Using default file...\")\n",
    "    txt=open(fileName, \"r\")   \n",
    "\n",
    "\n",
    "BG=Image.open(\"myfont/bg.png\") #path of page(background)photo (I have used blank page)\n",
    "sheet_width=BG.width\n",
    "gap, ht = 0, 0\n",
    "\n",
    "\n",
    "# for each letter in the uploaded txt file, read the unicode value and replace it with\n",
    "# the corresponding handwritten file in the \"myfont\" folder.\n",
    "for i in txt.read().replace(\"\\n\",\"\"):\n",
    "        cases = Image.open(\"myfont/{}.png\".format(str(ord(i))))\n",
    "        BG.paste(cases, (gap, ht))\n",
    "        size = cases.width\n",
    "        height=cases.height\n",
    "        #print(size)\n",
    "        print(\"Running...........\")\n",
    "        gap+=size\n",
    "\n",
    "        if sheet_width < gap or len(i)*115 >(sheet_width-gap):\n",
    "            gap,ht=0,ht+140\n",
    "\n",
    "print(gap)\n",
    "print(sheet_width)\n",
    "BG.show()\n"
   ]
  }
 ],
 "metadata": {
  "kernelspec": {
   "display_name": "test",
   "language": "python",
   "name": "python3"
  },
  "language_info": {
   "codemirror_mode": {
    "name": "ipython",
    "version": 3
   },
   "file_extension": ".py",
   "mimetype": "text/x-python",
   "name": "python",
   "nbconvert_exporter": "python",
   "pygments_lexer": "ipython3",
   "version": "3.9.17"
  },
  "orig_nbformat": 4
 },
 "nbformat": 4,
 "nbformat_minor": 2
}
